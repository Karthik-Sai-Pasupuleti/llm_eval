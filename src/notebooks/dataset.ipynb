{
 "cells": [
  {
   "cell_type": "code",
   "execution_count": 1,
   "id": "193ae816",
   "metadata": {},
   "outputs": [],
   "source": [
    "import ast\n",
    "from typing import Union, Tuple, List\n",
    "import pandas as pd\n",
    "import numpy as np\n",
    "import matplotlib.pyplot as plt\n",
    "import seaborn as sns\n",
    "import math\n",
    "from scipy.signal import butter, filtfilt"
   ]
  },
  {
   "cell_type": "code",
   "execution_count": 2,
   "id": "4c38470c",
   "metadata": {},
   "outputs": [],
   "source": [
    "# Load datasets\n",
    "\n",
    "df2 = pd.read_csv(r\"C:\\Users\\pasupuleti\\Desktop\\group-project\\experiments\\drowsiness_data\\lloyd_1\\session_metrics.csv\")\n",
    "df1 = pd.read_csv(r\"C:\\Users\\pasupuleti\\Desktop\\group-project\\experiments\\drowsiness_data\\Prof_ignacio1\\session_metrics.csv\")\n",
    "df3 = pd.read_csv(r\"C:\\Users\\pasupuleti\\Desktop\\group-project\\experiments\\drowsiness_data\\devano_palma\\session_metrics.csv\")"
   ]
  },
  {
   "cell_type": "code",
   "execution_count": 3,
   "id": "e9d4a7f4",
   "metadata": {},
   "outputs": [],
   "source": [
    "df3 = df3[1:-1]  # Remove first and last rows of devano_palma dataset"
   ]
  },
  {
   "cell_type": "code",
   "execution_count": 4,
   "id": "8f6a361c",
   "metadata": {},
   "outputs": [],
   "source": [
    "import numpy as np\n",
    "from scipy.signal import butter, filtfilt\n",
    "\n",
    "def steering_reversal_rate(steering_angle, gap_size=3.0, lowpass_cutoff=0.6, filter_order=2):\n",
    "    \"\"\"\n",
    "    Calculate the Steering Wheel Reversal Rate (SRR) as defined by Markkula & Engström (2006).\n",
    "    \n",
    "    Parameters\n",
    "    ----------\n",
    "    steering_angle : np.ndarray\n",
    "        Array of steering wheel angle values (degrees).\n",
    "    fs : float\n",
    "        Sampling frequency in Hz.\n",
    "    gap_size : float, optional\n",
    "        Minimum angular difference (degrees) between reversals (default 3.0° for visual load).\n",
    "    lowpass_cutoff : float, optional\n",
    "        Low-pass filter cutoff frequency (Hz) (default 0.6 Hz).\n",
    "    filter_order : int, optional\n",
    "        Butterworth filter order (default 2).\n",
    "    \n",
    "    Returns\n",
    "    -------\n",
    "    reversal_rate : float\n",
    "        Steering wheel reversal rate (reversals per minute).\n",
    "    \"\"\"\n",
    "    \n",
    "    # 1 Low-pass filter to remove noise\n",
    "    fs = len(steering_angle) / 60.0  # Assuming steering_angle is sampled over 60 seconds\n",
    "    nyquist = 0.5 * fs\n",
    "    normal_cutoff = lowpass_cutoff / nyquist\n",
    "    b, a = butter(filter_order, normal_cutoff, btype='low', analog=False)\n",
    "    filtered_angle = filtfilt(b, a, steering_angle)\n",
    "    \n",
    "    # 2️ Find stationary points (local minima and maxima)\n",
    "    diff = np.diff(filtered_angle)\n",
    "    sign_changes = np.sign(diff)\n",
    "    stationary_idx = np.where(np.diff(sign_changes) != 0)[0] + 1\n",
    "    \n",
    "    # 3️ Compute reversals\n",
    "    reversals = 0\n",
    "    k = 0\n",
    "    for l in range(1, len(stationary_idx)):\n",
    "        theta_k = filtered_angle[stationary_idx[k]]\n",
    "        theta_l = filtered_angle[stationary_idx[l]]\n",
    "        delta_theta = theta_l - theta_k\n",
    "        \n",
    "        if abs(delta_theta) >= gap_size:\n",
    "            reversals += 1\n",
    "            k = l\n",
    "        elif abs(theta_l) < abs(theta_k):\n",
    "            k = l\n",
    "    # 4️ Calculate rate per minute\n",
    "    duration_min = len(steering_angle) / (fs * 60.0)\n",
    "    reversal_rate = reversals / duration_min if duration_min > 0 else 0.0\n",
    "    \n",
    "    return reversal_rate\n",
    "\n",
    "\n",
    "\n",
    "def calculate_perclos(\n",
    "    ear_values: np.ndarray, ear_threshold: float, min_consec_frames: int\n",
    ") -> float:\n",
    "    \"\"\"\n",
    "    Calculate PERCLOS (Percentage of Eye Closure) from stored EAR values.\n",
    "\n",
    "    Args:\n",
    "        ear_values (np.ndarray): Array of EAR values sampled over time.\n",
    "        ear_threshold (float): EAR threshold below which eyes are considered closed.\n",
    "        min_consec_frames (int): Minimum consecutive frames below threshold to count as closed.\n",
    "\n",
    "    Returns:\n",
    "        float: PERCLOS percentage over the EAR values window.\n",
    "    \"\"\"\n",
    "    closed_frames = 0\n",
    "    consec_count = 0\n",
    "\n",
    "    for ear in ear_values:\n",
    "        if ear is not None:  # frames with no mediapipe mesh records aa none\n",
    "            if ear < ear_threshold:  # eye closed\n",
    "                consec_count += 1\n",
    "            else:\n",
    "                if consec_count >= min_consec_frames:  # eye opened\n",
    "                    closed_frames += (\n",
    "                        consec_count  # add the consecutive frames to closed frames\n",
    "                    )\n",
    "                consec_count = 0  # restart the count\n",
    "\n",
    "    # Account for closing at the end of the window\n",
    "    if consec_count >= min_consec_frames:\n",
    "        closed_frames += consec_count\n",
    "\n",
    "    total_frames = np.sum([ear is not None for ear in ear_values])\n",
    "\n",
    "    if total_frames == 0:\n",
    "        return 0.0\n",
    "\n",
    "    perclos = (closed_frames / total_frames) * 100.0\n",
    "    return perclos\n",
    "\n",
    "\n",
    "\n",
    "def approx_entropy(time_series: np.array, run_length: int = 2) -> float:\n",
    "    \"\"\"Approximate entropy (2sec window) [https://www.mdpi.com/1424-8220/17/3/495]\n",
    "\n",
    "    Args:\n",
    "        time_series (np.array): steering movement data\n",
    "        run_length (int): length of the run data (window with overlapping of the data,\n",
    "        example x = [1,2,3], if runlength=2 then output will be [[1,2], [2,3]])\n",
    "\n",
    "    Returns:\n",
    "        float: regularity (close to 0 : no irregularity, close to 1: irregularity)\n",
    "    \"\"\"\n",
    "    std_dev = np.std(time_series)\n",
    "    filter_level = 0.2 * std_dev\n",
    "\n",
    "    def _maxdist(x_i, x_j):\n",
    "        return max(abs(ua - va) for ua, va in zip(x_i, x_j))\n",
    "\n",
    "    def _phi(m):\n",
    "        n = time_series_length - m + 1\n",
    "        x = [\n",
    "            [time_series[j] for j in range(i, i + m - 1 + 1)]\n",
    "            for i in range(time_series_length - m + 1)\n",
    "        ]\n",
    "        counts = [\n",
    "            sum(1 for x_j in x if _maxdist(x_i, x_j) <= filter_level) / n for x_i in x\n",
    "        ]\n",
    "        return sum(math.log(c) for c in counts) / n\n",
    "\n",
    "    time_series_length = len(time_series)\n",
    "\n",
    "    return abs(_phi(run_length + 1) - _phi(run_length))\n",
    "\n",
    "\n",
    "\n",
    "def steering_reversal_rate_simple(\n",
    "    steering_angle: np.ndarray,\n",
    "    gap_size: float = 3.0,\n",
    "    lowpass_cutoff: float = 0.6,\n",
    "    filter_order: int = 2,\n",
    ") -> float:\n",
    "    \"\"\"\n",
    "    Simple and clear implementation of the Markkula & Engström (2006)\n",
    "    Steering Wheel Reversal Rate (SRR) algorithm.\n",
    "\n",
    "    Parameters\n",
    "    ----------\n",
    "    steering_angle : np.ndarray\n",
    "        Steering wheel angle signal (degrees)\n",
    "    gap_size : float, optional\n",
    "        Minimum angular change to count as a reversal (default 3.0° for visual load)\n",
    "    lowpass_cutoff : float, optional\n",
    "        Low-pass filter cutoff frequency (Hz). Use 0.6 Hz for visual, 2 Hz for cognitive.\n",
    "    filter_order : int, optional\n",
    "        Butterworth filter order (default 2)\n",
    "\n",
    "    Returns\n",
    "    -------\n",
    "    float\n",
    "        Steering wheel reversal rate (reversals per minute)\n",
    "    \"\"\"\n",
    "\n",
    "    # === 1. LOW-PASS FILTER ===\n",
    "    fs = len(steering_angle) / 60.0  # Sampling frequency (Hz), assuming 60s window\n",
    "    nyquist = 0.5 * fs\n",
    "    normal_cutoff = lowpass_cutoff / nyquist\n",
    "    b, a = butter(filter_order, normal_cutoff, btype=\"low\", analog=False)\n",
    "    filtered = filtfilt(b, a, steering_angle)\n",
    "\n",
    "    # === 2. FIND STATIONARY POINTS (local minima & maxima) ===\n",
    "    diff = np.diff(filtered)\n",
    "    sign_diff = np.sign(diff)\n",
    "\n",
    "    stationary_points = []\n",
    "    for i in range(1, len(sign_diff)):\n",
    "        if sign_diff[i] != sign_diff[i - 1]:  # sign change → extremum\n",
    "            stationary_points.append(i)\n",
    "\n",
    "    if len(stationary_points) < 2:\n",
    "        return 0.0  # no reversals possible\n",
    "\n",
    "    # === 3. COUNT REVERSALS (for both up and down directions) ===\n",
    "    def count_reversals(theta_values, gap):\n",
    "        count = 0\n",
    "        k = 0\n",
    "        for l in range(1, len(theta_values)):\n",
    "            if theta_values[l] - theta_values[k] >= gap:\n",
    "                count += 1\n",
    "                k = l\n",
    "            elif theta_values[l] < theta_values[k]:\n",
    "                k = l\n",
    "        return count\n",
    "\n",
    "    # Extract steering values at stationary points\n",
    "    theta_vals = filtered[stationary_points]\n",
    "\n",
    "    # Count upward and downward reversals\n",
    "    n_up = count_reversals(theta_vals, gap_size)\n",
    "    n_down = count_reversals(-theta_vals, gap_size)\n",
    "\n",
    "    total_reversals = n_up + n_down\n",
    "\n",
    "    # === 4. CALCULATE REVERSALS PER MINUTE ===\n",
    "    duration_min = len(filtered) / (fs * 60.0)\n",
    "    reversal_rate = total_reversals / duration_min if duration_min > 0 else 0.0\n",
    "\n",
    "    return reversal_rate\n",
    "\n",
    "\n",
    "\n",
    "# create a new column label by checking karthik_drowsiness_level and Vanchha_drowsiness_level if they are same then keep that value otherwise remove that row\n",
    "def checking_conflict(row: pd.Series) -> Union[str, np.nan]:\n",
    "    \"\"\"checking both annotators labelled same label or different.\n",
    "\n",
    "    Args:\n",
    "        row (pd.Series): data\n",
    "\n",
    "    Returns:\n",
    "        Union[str, np.nan]: if both annotators labelled same label and no nan values returns that label otherwise return nan\n",
    "    \"\"\"\n",
    "    if (row['karthik_drowsiness_level'] == row['Vanchha_drowsiness_level']) and (not pd.isna(row['karthik_drowsiness_level']) and not pd.isna(row['Vanchha_drowsiness_level'])):\n",
    "        return row['karthik_drowsiness_level']\n",
    "    else:\n",
    "        return np.nan"
   ]
  },
  {
   "cell_type": "code",
   "execution_count": 5,
   "id": "5484d91d",
   "metadata": {},
   "outputs": [],
   "source": [
    "# Selecting relevant columns\n",
    "columns = ['window_id', 'metric_PERCLOS', 'metric_BlinkRate',\n",
    "       'metric_YawnRate', 'metric_Entropy', 'metric_SteeringRate',\n",
    "       'metric_SDLP', 'raw_ear', 'raw_mar', 'raw_steering', 'raw_lane',\n",
    "       'karthik_drowsiness_level', 'karthik_notes',\n",
    "       'karthik_submission_type', 'Vanchha_drowsiness_level',\n",
    "       'Vanchha_notes', 'Vanchha_submission_type',\n",
    "      ]"
   ]
  },
  {
   "cell_type": "code",
   "execution_count": 6,
   "id": "c322512c",
   "metadata": {},
   "outputs": [],
   "source": [
    "df1_ = df1[columns]\n",
    "df2_ = df2[columns]\n",
    "df3_ = df3[columns]"
   ]
  },
  {
   "cell_type": "code",
   "execution_count": 7,
   "id": "e676216b",
   "metadata": {},
   "outputs": [],
   "source": [
    "# concating all dataframes\n",
    "df = pd.concat([df1_, df2_, df3_])"
   ]
  },
  {
   "cell_type": "code",
   "execution_count": 8,
   "id": "96526074",
   "metadata": {},
   "outputs": [
    {
     "data": {
      "text/plain": [
       "np.int64(0)"
      ]
     },
     "execution_count": 8,
     "metadata": {},
     "output_type": "execute_result"
    }
   ],
   "source": [
    "df[\"raw_ear\"].isnull().sum()"
   ]
  },
  {
   "cell_type": "code",
   "execution_count": 9,
   "id": "114f1879",
   "metadata": {},
   "outputs": [],
   "source": [
    "# converting the string representation of list to actual list\n",
    "df[\"raw_ear\"] = df[\"raw_ear\"].apply(ast.literal_eval)\n",
    "df[\"steering_angle\"] = df[\"raw_steering\"].apply(\n",
    "    lambda x: [v * 70 for v in ast.literal_eval(x)]\n",
    ")"
   ]
  },
  {
   "cell_type": "code",
   "execution_count": 10,
   "id": "f7c4add6",
   "metadata": {},
   "outputs": [
    {
     "data": {
      "text/plain": [
       "Index(['window_id', 'metric_PERCLOS', 'metric_BlinkRate', 'metric_YawnRate',\n",
       "       'metric_Entropy', 'metric_SteeringRate', 'metric_SDLP', 'raw_ear',\n",
       "       'raw_mar', 'raw_steering', 'raw_lane', 'karthik_drowsiness_level',\n",
       "       'karthik_notes', 'karthik_submission_type', 'Vanchha_drowsiness_level',\n",
       "       'Vanchha_notes', 'Vanchha_submission_type', 'steering_angle'],\n",
       "      dtype='object')"
      ]
     },
     "execution_count": 10,
     "metadata": {},
     "output_type": "execute_result"
    }
   ],
   "source": [
    "df.columns"
   ]
  },
  {
   "cell_type": "code",
   "execution_count": 11,
   "id": "d05ab309",
   "metadata": {},
   "outputs": [],
   "source": [
    "# correcting metric_PERCLOS by chaninging min_consec_frames to 0\n",
    "df[\"metric_PERCLOS\"] = df[\"raw_ear\"].apply(lambda x: calculate_perclos(np.array(x), ear_threshold=0.2, min_consec_frames=0))"
   ]
  },
  {
   "cell_type": "code",
   "execution_count": 12,
   "id": "c92ffba1",
   "metadata": {},
   "outputs": [],
   "source": [
    "df[\"metric_SteeringRate\"] = df[\"steering_angle\"].apply(lambda x: steering_reversal_rate(np.array(x)))"
   ]
  },
  {
   "cell_type": "code",
   "execution_count": 13,
   "id": "8901d72f",
   "metadata": {},
   "outputs": [],
   "source": [
    "df[\"steering_reversals\"] = df[\"steering_angle\"].apply(lambda x: steering_reversal_rate_simple(\n",
    "    steering_angle=np.array(x),\n",
    "    gap_size = 3.0,\n",
    "    lowpass_cutoff = 0.6,\n",
    "    filter_order= 2,\n",
    "))"
   ]
  },
  {
   "cell_type": "code",
   "execution_count": null,
   "id": "376609d7",
   "metadata": {},
   "outputs": [],
   "source": [
    "df[\"metric_Entropy\"] = df[\"steering_angle\"].apply(lambda x: approx_entropy(np.array(x)))"
   ]
  },
  {
   "cell_type": "code",
   "execution_count": null,
   "id": "a5eabf7e",
   "metadata": {},
   "outputs": [],
   "source": [
    "# create a new column label by checking karthik_drowsiness_level and Vanchha_drowsiness_level if they are same then keep that value otherwise remove that row\n",
    "df[\"label\"] = df.apply(checking_conflict, axis=1)"
   ]
  },
  {
   "cell_type": "code",
   "execution_count": null,
   "id": "5f38a0c1",
   "metadata": {},
   "outputs": [],
   "source": [
    "df"
   ]
  },
  {
   "cell_type": "code",
   "execution_count": null,
   "id": "73ff2027",
   "metadata": {},
   "outputs": [],
   "source": [
    "plt.plot(df[\"steering_angle\"].iloc[1])"
   ]
  },
  {
   "cell_type": "code",
   "execution_count": null,
   "id": "bf9d59c6",
   "metadata": {},
   "outputs": [],
   "source": [
    "df.columns"
   ]
  },
  {
   "cell_type": "code",
   "execution_count": null,
   "id": "10a00e23",
   "metadata": {},
   "outputs": [],
   "source": [
    "final_columns = [\n",
    "    'window_id', 'metric_PERCLOS', 'metric_BlinkRate', \"metric_YawnRate\",\n",
    "    'metric_Entropy', 'metric_SteeringRate', 'metric_SDLP', \"label\",\n",
    "    'steering_reversals', 'Entropy'\n",
    "]"
   ]
  },
  {
   "cell_type": "code",
   "execution_count": null,
   "id": "db7144f3",
   "metadata": {},
   "outputs": [],
   "source": [
    "df_ = df[final_columns]"
   ]
  },
  {
   "cell_type": "code",
   "execution_count": null,
   "id": "32247067",
   "metadata": {},
   "outputs": [],
   "source": [
    "df_"
   ]
  },
  {
   "cell_type": "code",
   "execution_count": null,
   "id": "4d00c1c1",
   "metadata": {},
   "outputs": [],
   "source": []
  },
  {
   "cell_type": "code",
   "execution_count": null,
   "id": "5e31e534",
   "metadata": {},
   "outputs": [],
   "source": [
    "# checking for nan values in labels column\n",
    "df_[\"label\"].isnull().sum()"
   ]
  },
  {
   "cell_type": "code",
   "execution_count": null,
   "id": "53842106",
   "metadata": {},
   "outputs": [],
   "source": [
    "# dropping rows with nan values in label column\n",
    "df_ = df_.dropna(subset=['label'])"
   ]
  },
  {
   "cell_type": "code",
   "execution_count": null,
   "id": "8ba1938c",
   "metadata": {},
   "outputs": [],
   "source": [
    "df_.reset_index(inplace=True, drop=True)"
   ]
  },
  {
   "cell_type": "code",
   "execution_count": null,
   "id": "4c06359e",
   "metadata": {},
   "outputs": [],
   "source": [
    "sns.boxplot(df_[\"metric_PERCLOS\"])"
   ]
  },
  {
   "cell_type": "code",
   "execution_count": null,
   "id": "4b425b02",
   "metadata": {},
   "outputs": [],
   "source": [
    "# Create subplots: 3 rows, 1 column (one plot per person)\n",
    "fig, axes = plt.subplots(3, 1, figsize=(10, 8), sharex=True)\n",
    "\n",
    "# Plot each dataset on its own subplot\n",
    "axes[0].plot(df2[\"metric_SteeringRate\"], color='b')\n",
    "axes[0].set_title('Lloyd')\n",
    "\n",
    "axes[1].plot(df1[\"metric_SteeringRate\"], color='g')\n",
    "axes[1].set_title('Prof. Ignacio')\n",
    "\n",
    "axes[2].plot(df3[\"metric_SteeringRate\"], color='r')\n",
    "axes[2].set_title('Devano Palma')\n",
    "\n",
    "# Add labels and formatting\n",
    "for ax in axes:\n",
    "    ax.set_ylabel('metric_SteeringRate')\n",
    "    ax.grid(True)\n",
    "\n",
    "axes[-1].set_xlabel('Frame / Time Index')\n",
    "\n",
    "plt.tight_layout()\n",
    "plt.show()\n"
   ]
  },
  {
   "cell_type": "code",
   "execution_count": null,
   "id": "31991e81",
   "metadata": {},
   "outputs": [],
   "source": [
    "df_"
   ]
  },
  {
   "cell_type": "code",
   "execution_count": null,
   "id": "b0a25cbb",
   "metadata": {},
   "outputs": [],
   "source": [
    "df_[\"label\"].value_counts()"
   ]
  },
  {
   "cell_type": "code",
   "execution_count": null,
   "id": "de301c0f",
   "metadata": {},
   "outputs": [],
   "source": [
    "df_['label'] = df_['label'].map({'Low': 1, 'Moderate': 2, 'High': 3})"
   ]
  },
  {
   "cell_type": "code",
   "execution_count": null,
   "id": "5805bc3c",
   "metadata": {},
   "outputs": [],
   "source": [
    "df_"
   ]
  },
  {
   "cell_type": "code",
   "execution_count": null,
   "id": "93f096b7",
   "metadata": {},
   "outputs": [],
   "source": [
    "\n",
    "for column in df_.columns:\n",
    "    plt.figure(figsize=(6, 4))\n",
    "    plt.boxplot(df_[column].dropna())\n",
    "    plt.title(f'Boxplot of {column}')\n",
    "    plt.ylabel(column)\n",
    "    plt.show()"
   ]
  },
  {
   "cell_type": "code",
   "execution_count": null,
   "id": "2867c08f",
   "metadata": {},
   "outputs": [],
   "source": [
    "df_['label'].value_counts()"
   ]
  },
  {
   "cell_type": "code",
   "execution_count": null,
   "id": "b68b74a4",
   "metadata": {},
   "outputs": [],
   "source": [
    "df_"
   ]
  },
  {
   "cell_type": "code",
   "execution_count": null,
   "id": "df76620a",
   "metadata": {},
   "outputs": [],
   "source": [
    "df_rename_columns = {\n",
    "    'metric_PERCLOS': 'perclos',\n",
    "    'metric_BlinkRate': 'eye_blink_rate',\n",
    "    'metric_YawnRate': 'yawning_rate',\n",
    "    'metric_Entropy': 'steering_entropy',\n",
    "    'metric_SteeringRate': 'steering_reversal_rate',\n",
    "    'metric_SDLP': 'std_lane_position',\n",
    "    'label': 'drowsiness_level'\n",
    "}\n",
    "\n",
    "df_ = df_.rename(columns=df_rename_columns, errors='ignore')\n"
   ]
  },
  {
   "cell_type": "code",
   "execution_count": null,
   "id": "45a15d78",
   "metadata": {},
   "outputs": [],
   "source": [
    "df_"
   ]
  },
  {
   "cell_type": "code",
   "execution_count": null,
   "id": "9b629795",
   "metadata": {},
   "outputs": [],
   "source": [
    "df_.to_csv(r\"C:\\Users\\pasupuleti\\Desktop\\group-project\\experiments\\drowsiness_data\\drowsiness_dataset_cleaned.csv\", index=False)"
   ]
  },
  {
   "cell_type": "code",
   "execution_count": null,
   "id": "f79c151c",
   "metadata": {},
   "outputs": [],
   "source": [
    "df_[\"label\"]"
   ]
  },
  {
   "cell_type": "code",
   "execution_count": null,
   "id": "97f86ba8",
   "metadata": {},
   "outputs": [],
   "source": [
    "x = np.array([1,2,3,4,5, -5, -4, -3, -2, -1])"
   ]
  },
  {
   "cell_type": "code",
   "execution_count": null,
   "id": "28655df2",
   "metadata": {},
   "outputs": [],
   "source": [
    "np.sign(x)"
   ]
  },
  {
   "cell_type": "code",
   "execution_count": null,
   "id": "987cd918",
   "metadata": {},
   "outputs": [],
   "source": []
  }
 ],
 "metadata": {
  "kernelspec": {
   "display_name": ".venv",
   "language": "python",
   "name": "python3"
  },
  "language_info": {
   "codemirror_mode": {
    "name": "ipython",
    "version": 3
   },
   "file_extension": ".py",
   "mimetype": "text/x-python",
   "name": "python",
   "nbconvert_exporter": "python",
   "pygments_lexer": "ipython3",
   "version": "3.12.0"
  }
 },
 "nbformat": 4,
 "nbformat_minor": 5
}
