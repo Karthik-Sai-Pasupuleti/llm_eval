{
 "cells": [
  {
   "cell_type": "code",
   "execution_count": 8,
   "id": "54a0207e",
   "metadata": {},
   "outputs": [],
   "source": [
    "import pandas as pd"
   ]
  },
  {
   "cell_type": "code",
   "execution_count": 11,
   "id": "fea75684",
   "metadata": {},
   "outputs": [],
   "source": [
    "df = pd.read_csv(r'/home/karthik/Desktop/drowsiness_detection_project/drowsiness_data/drowsiness_dataset_cleaned.csv')"
   ]
  },
  {
   "cell_type": "code",
   "execution_count": 14,
   "id": "eb96fffd",
   "metadata": {},
   "outputs": [
    {
     "data": {
      "text/html": [
       "<div>\n",
       "<style scoped>\n",
       "    .dataframe tbody tr th:only-of-type {\n",
       "        vertical-align: middle;\n",
       "    }\n",
       "\n",
       "    .dataframe tbody tr th {\n",
       "        vertical-align: top;\n",
       "    }\n",
       "\n",
       "    .dataframe thead th {\n",
       "        text-align: right;\n",
       "    }\n",
       "</style>\n",
       "<table border=\"1\" class=\"dataframe\">\n",
       "  <thead>\n",
       "    <tr style=\"text-align: right;\">\n",
       "      <th></th>\n",
       "      <th>window_id</th>\n",
       "      <th>perclos</th>\n",
       "      <th>eye_blink_rate</th>\n",
       "      <th>blink_duration</th>\n",
       "      <th>yawning_rate</th>\n",
       "      <th>steering_entropy</th>\n",
       "      <th>steering_reversal_rate</th>\n",
       "      <th>std_lane_position</th>\n",
       "      <th>drowsiness_level</th>\n",
       "    </tr>\n",
       "  </thead>\n",
       "  <tbody>\n",
       "    <tr>\n",
       "      <th>0</th>\n",
       "      <td>0</td>\n",
       "      <td>1.102088</td>\n",
       "      <td>8.352019</td>\n",
       "      <td>0.082657</td>\n",
       "      <td>0.0</td>\n",
       "      <td>0.089473</td>\n",
       "      <td>0.0</td>\n",
       "      <td>0.185746</td>\n",
       "      <td>1</td>\n",
       "    </tr>\n",
       "    <tr>\n",
       "      <th>1</th>\n",
       "      <td>1</td>\n",
       "      <td>1.239437</td>\n",
       "      <td>8.103700</td>\n",
       "      <td>0.092958</td>\n",
       "      <td>0.0</td>\n",
       "      <td>0.044457</td>\n",
       "      <td>3.0</td>\n",
       "      <td>0.203346</td>\n",
       "      <td>1</td>\n",
       "    </tr>\n",
       "    <tr>\n",
       "      <th>2</th>\n",
       "      <td>2</td>\n",
       "      <td>2.585722</td>\n",
       "      <td>14.156162</td>\n",
       "      <td>0.110817</td>\n",
       "      <td>0.0</td>\n",
       "      <td>0.053407</td>\n",
       "      <td>3.0</td>\n",
       "      <td>0.192183</td>\n",
       "      <td>1</td>\n",
       "    </tr>\n",
       "    <tr>\n",
       "      <th>3</th>\n",
       "      <td>3</td>\n",
       "      <td>2.200903</td>\n",
       "      <td>13.193634</td>\n",
       "      <td>0.094324</td>\n",
       "      <td>0.0</td>\n",
       "      <td>0.053932</td>\n",
       "      <td>0.0</td>\n",
       "      <td>0.233520</td>\n",
       "      <td>1</td>\n",
       "    </tr>\n",
       "    <tr>\n",
       "      <th>4</th>\n",
       "      <td>4</td>\n",
       "      <td>1.860203</td>\n",
       "      <td>11.165221</td>\n",
       "      <td>0.101466</td>\n",
       "      <td>0.0</td>\n",
       "      <td>0.019984</td>\n",
       "      <td>1.0</td>\n",
       "      <td>0.213990</td>\n",
       "      <td>1</td>\n",
       "    </tr>\n",
       "  </tbody>\n",
       "</table>\n",
       "</div>"
      ],
      "text/plain": [
       "   window_id   perclos  eye_blink_rate  blink_duration  yawning_rate  \\\n",
       "0          0  1.102088        8.352019        0.082657           0.0   \n",
       "1          1  1.239437        8.103700        0.092958           0.0   \n",
       "2          2  2.585722       14.156162        0.110817           0.0   \n",
       "3          3  2.200903       13.193634        0.094324           0.0   \n",
       "4          4  1.860203       11.165221        0.101466           0.0   \n",
       "\n",
       "   steering_entropy  steering_reversal_rate  std_lane_position  \\\n",
       "0          0.089473                     0.0           0.185746   \n",
       "1          0.044457                     3.0           0.203346   \n",
       "2          0.053407                     3.0           0.192183   \n",
       "3          0.053932                     0.0           0.233520   \n",
       "4          0.019984                     1.0           0.213990   \n",
       "\n",
       "   drowsiness_level  \n",
       "0                 1  \n",
       "1                 1  \n",
       "2                 1  \n",
       "3                 1  \n",
       "4                 1  "
      ]
     },
     "execution_count": 14,
     "metadata": {},
     "output_type": "execute_result"
    }
   ],
   "source": [
    "df.head()"
   ]
  },
  {
   "cell_type": "code",
   "execution_count": null,
   "id": "e1ba1848",
   "metadata": {},
   "outputs": [],
   "source": []
  },
  {
   "cell_type": "code",
   "execution_count": null,
   "id": "71929887",
   "metadata": {},
   "outputs": [],
   "source": []
  }
 ],
 "metadata": {
  "kernelspec": {
   "display_name": ".venv",
   "language": "python",
   "name": "python3"
  },
  "language_info": {
   "codemirror_mode": {
    "name": "ipython",
    "version": 3
   },
   "file_extension": ".py",
   "mimetype": "text/x-python",
   "name": "python",
   "nbconvert_exporter": "python",
   "pygments_lexer": "ipython3",
   "version": "3.12.3"
  }
 },
 "nbformat": 4,
 "nbformat_minor": 5
}
